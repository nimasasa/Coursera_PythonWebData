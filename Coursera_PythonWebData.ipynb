{
 "cells": [
  {
   "cell_type": "code",
   "execution_count": 50,
   "metadata": {
    "collapsed": false
   },
   "outputs": [
    {
     "name": "stdout",
     "output_type": "stream",
     "text": [
      "uct.ac.za\n",
      "media.berkeley.edu\n",
      "umich.edu\n",
      "iupui.edu\n",
      "umich.edu\n",
      "iupui.edu\n",
      "iupui.edu\n",
      "iupui.edu\n",
      "umich.edu\n",
      "umich.edu\n",
      "umich.edu\n",
      "umich.edu\n",
      "iupui.edu\n",
      "umich.edu\n",
      "caret.cam.ac.uk\n",
      "gmail.com\n",
      "uct.ac.za\n",
      "uct.ac.za\n",
      "uct.ac.za\n",
      "uct.ac.za\n",
      "uct.ac.za\n",
      "media.berkeley.edu\n",
      "media.berkeley.edu\n",
      "media.berkeley.edu\n",
      "iupui.edu\n",
      "iupui.edu\n",
      "iupui.edu\n",
      "\n",
      "Counts:\n",
      "iupui.edu 8\n",
      "umich.edu 7\n",
      "uct.ac.za 6\n",
      "media.berkeley.edu 4\n",
      "caret.cam.ac.uk 1\n",
      "gmail.com 1\n"
     ]
    }
   ],
   "source": [
    "\n",
    "import sqlite3\n",
    "\n",
    "conn = sqlite3.connect('emaildb.sqlite')\n",
    "cur = conn.cursor()\n",
    "\n",
    "cur.execute('''\n",
    "DROP TABLE IF EXISTS Counts''')\n",
    "\n",
    "cur.execute('''\n",
    "CREATE TABLE Counts (org TEXT, count INTEGER)''')\n",
    "\n",
    "\n",
    "fh = open('C:/Users/nsalehi/Desktop/mbox-short.txt')\n",
    "for line in fh:\n",
    "    if not line.startswith('From: ') : continue\n",
    "    pieces = line.split('@')\n",
    "    org = pieces[1].rstrip()\n",
    "    print org\n",
    "    cur.execute('SELECT count FROM Counts WHERE org = ? ', (org, ))\n",
    "    row = cur.fetchone()\n",
    "    if row is None:\n",
    "        cur.execute('''INSERT INTO Counts (org, count) \n",
    "                VALUES ( ?, 1 )''', ( org, ) )\n",
    "    else : \n",
    "        cur.execute('UPDATE Counts SET count=count+1 WHERE org = ?', \n",
    "            (org, ))\n",
    "    conn.commit()\n",
    "\n",
    "sqlstr = 'SELECT org, count FROM Counts ORDER BY count DESC LIMIT 10'\n",
    "\n",
    "print\n",
    "print \"Counts:\"\n",
    "for row in cur.execute(sqlstr) :\n",
    "    print str(row[0]), row[1]\n",
    "\n",
    "cur.close()\n"
   ]
  },
  {
   "cell_type": "code",
   "execution_count": null,
   "metadata": {
    "collapsed": true
   },
   "outputs": [],
   "source": []
  },
  {
   "cell_type": "code",
   "execution_count": null,
   "metadata": {
    "collapsed": true
   },
   "outputs": [],
   "source": []
  }
 ],
 "metadata": {
  "kernelspec": {
   "display_name": "Python [conda root]",
   "language": "python",
   "name": "conda-root-py"
  },
  "language_info": {
   "codemirror_mode": {
    "name": "ipython",
    "version": 3
   },
   "file_extension": ".py",
   "mimetype": "text/x-python",
   "name": "python",
   "nbconvert_exporter": "python",
   "pygments_lexer": "ipython3",
   "version": "3.5.2"
  }
 },
 "nbformat": 4,
 "nbformat_minor": 0
}
